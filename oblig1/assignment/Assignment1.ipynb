{
 "cells": [
  {
   "cell_type": "markdown",
   "metadata": {},
   "source": [
    "# IN3050/IN4050 Mandatory Assignment 1: Traveling Salesman Problem"
   ]
  },
  {
   "cell_type": "code",
   "execution_count": null,
   "metadata": {},
   "outputs": [],
   "source": [
    "%matplotlib\n",
    "from code import *"
   ]
  },
  {
   "cell_type": "markdown",
   "metadata": {},
   "source": [
    "## Exhaustive Search\n",
    "\n",
    "First, try to solve the problem by inspecting every possible tour. Start\n",
    "by writing a program to find the shortest tour among a subset of the\n",
    "cities (say, **6** of them). Measure the amount of time your program\n",
    "takes. Incrementally add more cities and observe how the time increases.\n",
    "Plot the shortest tours you found using the plot_plan method above, for\n",
    "6 and 10 cities."
   ]
  },
  {
   "cell_type": "code",
   "execution_count": null,
   "metadata": {},
   "outputs": [],
   "source": [
    "def exhaustive_search(n=6):\n",
    "    \"\"\" Test all orderings of the first `n` cities.\n",
    "    \"\"\"\n",
    "    best_fitness = np.inf\n",
    "    best_cyle    = np.arange(n)\n",
    "    for cycle in cycles(range(n)):\n",
    "        if (new_fitness := fitness(cycle)) < best_fitness:\n",
    "            best_fitness = new_fitness\n",
    "            best_cycle   = cycle\n",
    "    return best_cycle\n",
    "\n",
    "def cycles(items):\n",
    "    \"\"\" Generates next cycles with a single fixed point.\n",
    "    \"\"\"\n",
    "    # This saves us $n! - (n-1)!$ iterations. See:\n",
    "    # [https://en.wikipedia.org/wiki/Stirling_numbers_of_the_first_kind].\n",
    "    # Think of it as always starting in Barcelona; keep the fist city fixed.\n",
    "    first = (items[0],)\n",
    "    for cycle in it.permutations(items[1:]):\n",
    "        yield np.array(first + cycle)\n",
    "\n",
    "def fitness(perm, distances=distances):\n",
    "    \"\"\" Evaluate the fitness of a city ordering (in integer form)\n",
    "    \"\"\"\n",
    "    # Some awful data slicing here, sorry. Extracts the relative distances,\n",
    "    # using the permutation numbers as indexes. Then sum them up.\n",
    "    return np.sum(distances[:,(perm)][(perm+1),:][(perm),(perm-1)], dtype=float)"
   ]
  },
  {
   "cell_type": "markdown",
   "metadata": {},
   "source": [
    "What is the shortest tour (i.e., the actual sequence of cities, and its\n",
    "length) among the first 10 cities (that is, the cities starting with\n",
    "B,C,D,H and I)? How long did your program take to find it? Calculate an\n",
    "approximation of how long it would take to perform exhaustive search on\n",
    "all 24 cities?"
   ]
  },
  {
   "cell_type": "code",
   "execution_count": null,
   "metadata": {},
   "outputs": [],
   "source": [
    "exhaustive_search(6)"
   ]
  },
  {
   "cell_type": "markdown",
   "metadata": {},
   "source": [
    "## Hill Climbing\n",
    "\n",
    "Then, write a simple hill climber to solve the TSP. How well does the\n",
    "hill climber perform, compared to the result from the exhaustive search\n",
    "for the first **10 cities**? Since you are dealing with a stochastic\n",
    "algorithm, you should run the algorithm several times to measure its\n",
    "performance. Report the length of the tour of the best, worst and mean\n",
    "of 20 runs (with random starting tours), as well as the standard\n",
    "deviation of the runs, both with the **10 first cities**, and with all\n",
    "**24 cities**. Plot one of the the plans from the 20 runs for both 10\n",
    "cities and 24 cities (you can use plot_plan)."
   ]
  },
  {
   "cell_type": "code",
   "execution_count": null,
   "metadata": {},
   "outputs": [],
   "source": [
    "# Implement the algorithm here"
   ]
  },
  {
   "cell_type": "markdown",
   "metadata": {},
   "source": [
    "## Genetic Algorithm\n",
    "\n",
    "Next, write a genetic algorithm (GA) to solve the problem. Choose\n",
    "mutation and crossover operators that are appropriate for the problem\n",
    "(see chapter 4.5 of the Eiben and Smith textbook). Choose three\n",
    "different values for the population size. Define and tune other\n",
    "parameters yourself and make assumptions as necessary (and report them,\n",
    "of course).\n",
    "\n",
    "For all three variants: As with the hill climber, report best, worst,\n",
    "mean and standard deviation of tour length out of 20 runs of the\n",
    "algorithm (of the best individual of last generation). Also, find and\n",
    "plot the average fitness of the best fit individual in each generation\n",
    "(average across runs), and include a figure with all three curves in the\n",
    "same plot in the report. Conclude which is best in terms of tour length\n",
    "and number of generations of evolution time.\n",
    "\n",
    "Finally, plot an example optimized tour (the best of the final\n",
    "generation) for the three different population sizes, using the\n",
    "plot_plan method."
   ]
  },
  {
   "cell_type": "code",
   "execution_count": null,
   "metadata": {},
   "outputs": [],
   "source": [
    "# Implement the algorithm here"
   ]
  },
  {
   "cell_type": "markdown",
   "metadata": {},
   "source": [
    "Among the first 10 cities, did your GA find the shortest tour (as found\n",
    "by the exhaustive search)? Did it come close?\n",
    "\n",
    "For both 10 and 24 cities: How did the running time of your GA compare\n",
    "to that of the exhaustive search?\n",
    "\n",
    "How many tours were inspected by your GA as compared to by the\n",
    "exhaustive search?"
   ]
  },
  {
   "cell_type": "code",
   "execution_count": null,
   "metadata": {},
   "outputs": [],
   "source": [
    "# Answer"
   ]
  },
  {
   "cell_type": "markdown",
   "metadata": {},
   "source": [
    "## Hybrid Algorithm (IN4050 only)\n",
    "\n",
    "### Lamarckian\n",
    "\n",
    "Lamarck, 1809: Traits acquired in parents’ lifetimes can be inherited by\n",
    "offspring. In general the algorithms are referred to as Lamarckian if\n",
    "the result of the local search stage replaces the individual in the\n",
    "population.\n",
    "\n",
    "### Baldwinian\n",
    "\n",
    "Baldwin effect suggests a mechanism whereby evolutionary progress can be\n",
    "guided towards favourable adaptation without the changes in individual's\n",
    "fitness arising from learning or development being reflected in changed\n",
    "genetic characteristics. In general the algorithms are referred to as\n",
    "Baldwinian if the original member is kept, but has as its fitness the\n",
    "value belonging to the outcome of the local search process.\n",
    "\n",
    "(See chapter 10 and 10.2.1 from Eiben and Smith textbook for more\n",
    "details. It will also be lectured in Lecure 4)\n",
    "\n",
    "### Task\n",
    "\n",
    "Implement a hybrid algorithm to solve the TSP: Couple your GA and hill\n",
    "climber by running the hill climber a number of iterations on each\n",
    "individual in the population as part of the evaluation. Test both\n",
    "Lamarckian and Baldwinian learning models and report the results of both\n",
    "variants in the same way as with the pure GA (min, max, mean and\n",
    "standard deviation of the end result and an averaged generational plot).\n",
    "How do the results compare to that of the pure GA, considering the\n",
    "number of evaluations done?"
   ]
  },
  {
   "cell_type": "code",
   "execution_count": null,
   "metadata": {},
   "outputs": [],
   "source": [
    "# Implement algorithm here"
   ]
  }
 ],
 "metadata": {
  "jupytext": {
   "formats": "ipynb,md:pandoc",
   "text_representation": {
    "extension": ".md",
    "format_name": "pandoc",
    "format_version": "2.14.2",
    "jupytext_version": "1.13.3"
   }
  },
  "kernelspec": {
   "display_name": "Python 3 (ipykernel)",
   "language": "python",
   "name": "python3"
  }
 },
 "nbformat": 4,
 "nbformat_minor": 2
}
